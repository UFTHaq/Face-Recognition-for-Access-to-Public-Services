{
 "cells": [
  {
   "cell_type": "markdown",
   "id": "7bee1935",
   "metadata": {},
   "source": [
    "# ENCODING SOURCE CODE"
   ]
  },
  {
   "cell_type": "markdown",
   "id": "e4b3a3c0",
   "metadata": {},
   "source": [
    "# Title : Face Recognition for Access to Public Services"
   ]
  },
  {
   "cell_type": "markdown",
   "id": "c92fcac8",
   "metadata": {},
   "source": [
    "## Name : Ukhem Fahmi Thoriqul Haq"
   ]
  },
  {
   "cell_type": "markdown",
   "id": "c8e1ecc0",
   "metadata": {},
   "source": [
    "### Import Library"
   ]
  },
  {
   "cell_type": "code",
   "execution_count": null,
   "id": "1eaeafe2",
   "metadata": {},
   "outputs": [],
   "source": [
    "from datetime import datetime\n",
    "\n",
    "import face_recognition\n",
    "import numpy as np\n",
    "import pandas as pd\n",
    "import os"
   ]
  },
  {
   "cell_type": "markdown",
   "id": "27bd52c2",
   "metadata": {},
   "source": [
    "### Process Encoding"
   ]
  },
  {
   "cell_type": "code",
   "execution_count": null,
   "id": "f85e42ed",
   "metadata": {},
   "outputs": [],
   "source": [
    "image_list_elektro = os.listdir(\"data - foto/\")\n",
    "print(image_list_elektro)\n",
    "\n",
    "elektro_itk = []\n",
    "for nama_saja in image_list_elektro:\n",
    "    a = nama_saja.split(\".\")[0]\n",
    "    # print(a)\n",
    "    elektro_itk.append(a)\n",
    "\n",
    "df = pd.DataFrame(elektro_itk)\n",
    "print(df)\n",
    "\n",
    "df.to_csv(\"data/elektro-nomor\", index=False, header=None)\n",
    "\n",
    "waktu_mulai = datetime.now()\n",
    "\n",
    "all_face_encodings= []\n",
    "for image in image_list_elektro:\n",
    "    load_image = face_recognition.load_image_file(f\"data - foto/{image}\")\n",
    "    face_encode = face_recognition.face_encodings(load_image, num_jitters=10, )[0]\n",
    "    all_face_encodings.append(face_encode)\n",
    "    print(all_face_encodings)\n",
    "\n",
    "np.savetxt(\"data/elektro_face_encodings.csv\", all_face_encodings, delimiter=\",\")\n",
    "print(\"\\nEncoding All Faces Done...\\n\")\n",
    "\n",
    "waktu_selesai = datetime.now()\n",
    "\n",
    "total_waktu = waktu_selesai - waktu_mulai\n",
    "\n",
    "print(total_waktu)\n"
   ]
  }
 ],
 "metadata": {
  "kernelspec": {
   "display_name": "Python 3 (ipykernel)",
   "language": "python",
   "name": "python3"
  },
  "language_info": {
   "codemirror_mode": {
    "name": "ipython",
    "version": 3
   },
   "file_extension": ".py",
   "mimetype": "text/x-python",
   "name": "python",
   "nbconvert_exporter": "python",
   "pygments_lexer": "ipython3",
   "version": "3.9.12"
  }
 },
 "nbformat": 4,
 "nbformat_minor": 5
}
