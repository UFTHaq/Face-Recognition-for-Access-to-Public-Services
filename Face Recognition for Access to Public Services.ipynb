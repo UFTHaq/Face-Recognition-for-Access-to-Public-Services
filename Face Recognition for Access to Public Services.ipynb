{
 "cells": [
  {
   "cell_type": "markdown",
   "id": "20ae9c5c",
   "metadata": {},
   "source": [
    "# Title : Face Recognition for Access to Public Services\n",
    "\n",
    "## Name :  Ukhem Fahmi Thoriqul Haq"
   ]
  },
  {
   "cell_type": "markdown",
   "id": "dc52b258",
   "metadata": {},
   "source": [
    "### Abstrak"
   ]
  },
  {
   "cell_type": "markdown",
   "id": "9474e9c7",
   "metadata": {},
   "source": [
    "<div style='text-align: justify;'>\n",
    "Tantangan dalam penerapan smart city menjadi sangat nyata, salah satu penerapan smart city ialah smart governance. Smart governance memerlukan suatu perangkat yang dapat melakukan tracking manusia agar pengendalian terhadap masyarakat menjadi lebih baik, salah satunya dengan menerapkan teknologi face recognition untuk memasuki sarana prasarana publik milik pemerintahan. Teknologi face recognition pun tergolong lebih “higienis”, jika dibandingkan dengan teknologi fingerprint scanner yang memerlukan sentuhan. Face recognition pun dapat menjadi sistem pengamanan karena hanya masyarakat yang terdaftar di smart city saja yang dapat memasuki lokasi tersebut. Sistem face recognition ini pun telah dilengkapi database yang mencatat kegiatan secara realtime. Metode pembuatan sistem ini dengan menggunakan pemrograman python, dengan toolkit dlib, opencv, dan google sheets API sebagai databasenya. Data yang digunakan merupakan data dari mahasiswa teknik elektro yang mengikuti mata kuliah Elektronika Kota Cerdas serta dosen dan staff Elektro ITK. Hasil performa dari perancangan aplikasi ini dapat mendeteksi objek yang telah dikenal dengan sangat cepat dengan sistem validasi yang membuat keakuratan menjadi 99.9%.\n",
    "</div>\n",
    "\n",
    "__Kata Kunci:__ Dlib, Face-Recognition, OpenCV, Python, Smart-City."
   ]
  },
  {
   "cell_type": "markdown",
   "id": "637cb2be",
   "metadata": {},
   "source": [
    "### Abstract"
   ]
  },
  {
   "cell_type": "markdown",
   "id": "ae9d5ce1",
   "metadata": {},
   "source": [
    "<div style='text-align: justify;'>\n",
    "The challenges in implementing smart cities have become very real, and one of the applications of smart cities is smart governance. Smart governance requires a tool that can track individuals to improve community control. One way to achieve this is by implementing face recognition technology for accessing public facilities owned by the government. Face recognition technology is considered more \"hygienic\" compared to fingerprint scanners that require physical contact. Additionally, face recognition can serve as a security system, allowing only registered individuals within the smart city to access these locations. This face recognition system also comes equipped with a real-time activity database. The system was developed using Python programming, utilizing the dlib and OpenCV toolkits, along with the Google Sheets API for the database. The data used includes information from electrical engineering students enrolled in the Smart City Electronics course, as well as faculty members and staff from ITK's Electrical Engineering department. The performance results of this application design are impressive, swiftly detecting recognized objects with a validation system that achieves a 99.9% accuracy rate.\n",
    "</div>\n",
    "\n",
    " __Keywords__: _Dlib, Face-Recognition, OpenCV, Python, Smart-City._"
   ]
  },
  {
   "cell_type": "markdown",
   "id": "ef98193f",
   "metadata": {},
   "source": [
    "### 1. PENDAHULUAN"
   ]
  },
  {
   "cell_type": "markdown",
   "id": "a0c40865",
   "metadata": {},
   "source": [
    "<div style='text-align: justify;'>\n",
    "Tidak dapat dipungkiri bahwa ilmu pengetahuan dan teknologi kini semakin berkembang pesat, tak terkecuali di bidang teknik elektronika. Salah satu bidang penting elektronika dewasa ini adalah Smart City. Smart City merupakan kawasan perkotaan berteknologi modern yang menggunakan berbagai jenis teknologi elektronik, aktivasi suara dan berbagai sensor untuk mengumpulkan berbagai data. Smart City yang baik adalah wilayah kota yang telah mengintegrasikan teknologi informasi dan komunikasi dalam tata kelola sehari-hari dengan tujuan untuk mewujudkan efisiensi, memperbaiki pelayanan publik, serta meningkatkan kenyamanan dan kesejahteraan warganya dengan menggunakan berbagai data yang telah dikumpulkan. Smart Governance merupakan bagian atau dimensi pada Smart City yang mengkhususkan pada tata kelola pemerintahan. Adanya kerja sama antara pemerintahan dan masyarakat diharapkan dapat mewujudkan tata kelola dan jalannya pemerintahan yang bersih, jujur, adil, dan demokrasi, serta membuat kualitas dan kuantitas layanan publik yang lebih baik.\n",
    "</div>"
   ]
  },
  {
   "cell_type": "markdown",
   "id": "21e833ff",
   "metadata": {},
   "source": [
    "<div style='text-align: justify;'>\n",
    "Face Recognition adalah suatu teknologi dalam computer vision. Face Recognition merupakan sebuah metode atau cara yang diterapkan pada teknologi yang ada, seperti telepon pintar, komputer, atau cara yang diterapkan pada teknologi yang ada, seperti penerapan Face Recognition pada smartphone, komputer, kamera, dan lain sebagainya. Face Recognition digunakan dalam pengenalan/deteksi wajah, menemukan dan memvisualisasikan wajah manusia dalam bentuk digital. Dengan adanya perkembangan teknologi tersebut, banyak hal yang dapat direalisasikan untuk membantu berbagai macam pekerjaan manusia. Contohnya direalisasikan sebagai akses masuk suatu tempat.\n",
    "</div>"
   ]
  },
  {
   "cell_type": "markdown",
   "id": "d55f04b7",
   "metadata": {},
   "source": [
    "<div style='text-align: justify;'>\n",
    "Salah satu hal yang menarik untuk dirancang dan direalisasikan adalah pengaplikasian pengenalan wajah untuk memasuki sarana dan prasarana publik pemerintahan. Hal ini sebagai salah satu inovasi kami untuk mendukung program Smart City → Smart Governance. Pada Tugas besar ini, Smart Governance yang digunakan adalah tracking dan tracing penduduk Smart City dengan menggunakan face recognition untuk memasuki sarana dan prasarana publik milik pemerintahan dan akan secara langsung masuk ke database secara realtime, sehingga dapat mendukung program Smart Governance menjadi Smart City.\n",
    "    </div>"
   ]
  },
  {
   "cell_type": "markdown",
   "id": "4fe9f6eb",
   "metadata": {},
   "source": [
    "### 2. METODOLOGI"
   ]
  },
  {
   "cell_type": "markdown",
   "id": "7f4129e0",
   "metadata": {},
   "source": [
    "|Block Diagram|\n",
    "|:-:|\n",
    "|<img src=\"https://raw.githubusercontent.com/UFTHaq/Personal-WEB-Image/main/Images/Face-Recognition.png\" width=\"800\" />|"
   ]
  },
  {
   "cell_type": "markdown",
   "id": "0c068b43",
   "metadata": {},
   "source": [
    "<div style='text-align: justify;'>\n",
    "    <b>Tools yang digunakan</b>: Python, dlib, library face-recognition, opencv, google sheets api.\n",
    "    </div>"
   ]
  },
  {
   "cell_type": "markdown",
   "id": "89b9755b",
   "metadata": {},
   "source": [
    "<div style='text-align: justify;'>\n",
    "    Dimulai dari menyiapkan data berupa image wajah yang diberi ID sebagai nama. Disiapkan nama dari masing masing ID yang disimpan dalam csv. Dilakukan Encoding wajah dari setiap data dengan menggunakan OpenCV dan library face-recognition dengan menggunakan method <code>face_recognition.face_encodings</code>. Hasil encoding wajah berupa <code>array 128 dimensi</code> dan dipasangkan dengan ID masing-masing data sesuai dengan urutan <code>index</code>. Hasil encoding disimpan dalam csv.\n",
    "    </div>"
   ]
  },
  {
   "cell_type": "markdown",
   "id": "b5d38418",
   "metadata": {},
   "source": [
    "<div style='text-align: justify;'>\n",
    "    Pada Main Program, digunakan OpenCV dalam <code>while loop</code> untuk membuat OpenCV dapat menangkap frame gambar secara terus menerus secara <i>live</i> melalui webcam. Setelah itu dilakukan encoding wajah dan membandingkan hasil <code>encoding live</code> dengan hasil encoding yang telah dibuat sebelumnya. Dilakukan pengenalan wajah dengan mencari nilai encoding paling mendekati data encoding awal. Proses tersebut akan mendapatkan pengenalan dan mendapatkan nilai index data. Nilai index data dapat digunakan untuk memunculkan nama wajah yang telah dideteksi. \n",
    "    </div>"
   ]
  },
  {
   "cell_type": "markdown",
   "id": "4d097878",
   "metadata": {},
   "source": [
    "<div style='text-align: justify;'>\n",
    "    Akan tetapi sistem ini masih memiliki bug karena dia terus mendeteksi banyak frame dalam 1 detik, sekitar 20-30 fps. Ini akan menimbulkan kesalahan pendeteksian wajah karena diperlukan waktu untuk menuju posisi di depan webcam. Pendeteksian wajah saat object masih bergerak dan menimbulkan posisi pendeteksian pengenalan wajah yang tidak optimal serta posisi wajah yang belum tegak lurus ke webcam dan mengakibatkan kesalahan dalam pengenalan wajah menjadi mengenali orang lain. Oleh karena itu,  sebelum dicatat pada database, dilakukan validasi pengenalan wajah dengan menambahkan sedikit algoritma berupa pendeteksian wajah yang sama secara beberapa kali secara berturut turut. Dilakukan dengan cara menyimpan data nama hasil deteksi pengenalan wajah dari setiap frame dalam sebuah list.\n",
    "    </div>"
   ]
  },
  {
   "cell_type": "markdown",
   "id": "4fbd2f55",
   "metadata": {},
   "source": [
    "<div style='text-align: justify;'>\n",
    "    Jika pada frame berikut nya list tersebut ditambahkan dengan item nama yang berbeda dengan item nama sebelumnya maka seluruh item list di hapus dan list di isi dengan nama deteksi terbaru. Jika list memiliki item nama yang sama sebanyak x kali berturut-turut, maka bisa asumsikan bahwa object wajah yang telah dideteksi berada dalam keadaan diam/stabil/stationary. Batas nilai x bisa diubah sesuai dengan kemampuan CPU masing-masing tetapi pada case ini digunakan <code>nilai x = 10</code>, sehingga jika list memiliki item list 10 maka dapat dikonfirmasi untuk dicatat ke dalam database google spreadsheet dan bisa dilanjutkan pendeteksian selanjutnya. Data yang dicatat adalah <code>Nama, Jam dan Tanggal</code>\n",
    "    </div>"
   ]
  },
  {
   "cell_type": "markdown",
   "id": "37f18410",
   "metadata": {},
   "source": [
    "### 3. HASIL"
   ]
  },
  {
   "cell_type": "markdown",
   "id": "63bfd1c9",
   "metadata": {},
   "source": [
    "|Success|Unsuccess|\n",
    "|:-:|:-:|\n",
    "|<img src=\"https://raw.githubusercontent.com/UFTHaq/Personal-WEB-Image/main/Images/%401.jpg\" width=\"350\" />|<img src=\"https://raw.githubusercontent.com/UFTHaq/Personal-WEB-Image/main/Images/%401b.jpg\" width=\"350\" />|"
   ]
  },
  {
   "cell_type": "markdown",
   "id": "009fd37c",
   "metadata": {},
   "source": [
    "<div style='text-align: justify;'>\n",
    "    Hasil percobaan menunjukkan bahwa saat tidak adanya halangan pada wajah, sistem dapat mengenali wajah dengan benar, dengan catatan memiliki penerangan yang memadai. Lalu saat diberikan halangan berupa masker, sistem tidak akan mengenali wajah sama sekali.\n",
    "    </div>"
   ]
  },
  {
   "cell_type": "markdown",
   "id": "8a422468",
   "metadata": {},
   "source": [
    "|Success|Unsuccess|\n",
    "|:-:|:-:|\n",
    "|<img src=\"https://raw.githubusercontent.com/UFTHaq/Personal-WEB-Image/main/Images/%402.jpg\" width=\"350\" />|<img src=\"https://raw.githubusercontent.com/UFTHaq/Personal-WEB-Image/main/Images/%402b.jpg\" width=\"350\" />|"
   ]
  },
  {
   "cell_type": "markdown",
   "id": "a3074a18",
   "metadata": {},
   "source": [
    "<div style='text-align: justify;'>\n",
    "    Data kedua menunjukkan bahwa saat tidak adanya halangan pada wajah, sistem dapat mengenali wajah dengan benar. Namun saat menggunakan kacamata, sistem mengenali dengan nama yang salah. Hal ini karena data image yang di encoding tidak dalam kondisi menggunakan kacamata, sehingga menghasilkan pengenalan yang salah karena kacamata membuat pergeseran titik landmark wajah yang di encoding.\n",
    "    </div>"
   ]
  },
  {
   "cell_type": "markdown",
   "id": "c09b3da1",
   "metadata": {},
   "source": [
    "<div style='text-align: justify;'>\n",
    "    Setelah melakukan pengujian dan didapatkan hasil data, masih terdapat error saat pengenalan menggunakan penghalang wajah berupa baik berupa masker ataupun kacamata. Oleh karena itu bagi pengguna kacamata harap melepaskan kacamata, baik pada saat encoding maupun deteksi pengenalan wajah. Selain itu apabila ada 2 orang sejajar pada kamera atau webcam maka hanya 1 orang saja yang terdeteksi. Jarak pengenalan juga tergantung dari besaran lensa yang digunakan pada kamera. Disini digunakan webcam Xiaov dengan jarak pendeteksian tidak lebih dari 85 cm dari poisi webcam.\n",
    "    </div>"
   ]
  },
  {
   "cell_type": "markdown",
   "id": "72bc4e79",
   "metadata": {},
   "source": [
    "### 4. KESIMPULAN"
   ]
  },
  {
   "cell_type": "markdown",
   "id": "e814b140",
   "metadata": {},
   "source": [
    "<div style='text-align: justify;'>\n",
    "    Setelah melaksanakan pengujian dan menerima hasil data, ditemukan bahwa masih terdapat kesalahan dalam proses pengenalan ketika wajah tertutup oleh penghalang seperti masker atau kacamata. Meskipun demikian, akurasi data berhasil ditingkatkan melalui metode validasi yang melibatkan perbandingan data sebanyak 10 kali untuk memastikan konsistensi dalam mendeteksi wajah. Berkat pendekatan ini, sistem ini telah berhasil diimplementasikan sebagai aplikasi yang mensimulasikan pemanfaatan teknologi pengenalan wajah. Aplikasi ini ditujukan untuk mengakses fasilitas umum yang dikelola oleh pemerintah, sejalan dengan tujuan pengembangan konsep Smart City. Dengan demikian, aplikasi ini dapat dianggap sebagai langkah awal dalam mengoptimalkan teknologi face recognition untuk mendukung efisiensi pelayanan umum dan memajukan ide Smart City.\n",
    "    </div>"
   ]
  },
  {
   "cell_type": "markdown",
   "id": "1cd8e776",
   "metadata": {},
   "source": [
    "### 5. EVALUASI"
   ]
  },
  {
   "cell_type": "markdown",
   "id": "ee4b0f88",
   "metadata": {},
   "source": [
    "<div style='text-align: justify;'>\n",
    "    Dari project Face Recognition yang telah dibuat ini, evaluasi masalah yang sedikit menghambat proses automasi dari encoding dan recognition adalah data foto wajah yang tidak berasal dari database yang sebenarnya, sehingga melakukan ketiaka melakukan <i>Preprocessing Data</i>, dilakukan dengan memberikan penamaan secara manual dan itu akan menjadi masalah yang cukup membuat lelah Ketika wajah yang ingin terdaftar dalam system melebihi ribuan orang. Sehingga saran yang dapat diberikan adalah menggunakan DBMS (Database Management System) yang lebih proper, seperti MySQL, PostgreSQL, Oracle dsb, yang terdiri dari data nama, nomor, dan foto. Sehingga dapat melakukan encoding wajah dengan lebih baik dan terstruktur serta efisien.\n",
    "    </div>"
   ]
  },
  {
   "cell_type": "markdown",
   "id": "a63ab123",
   "metadata": {},
   "source": [
    "### 6. DAFTAR PUSTAKA"
   ]
  },
  {
   "cell_type": "markdown",
   "id": "c32937d8",
   "metadata": {},
   "source": [
    "Boyko, N., Basytiuk, O., & Shakhovska, N. (2018). Performance Evaluation and Comparison of Software for\n",
    "Face Recognition , based on Dlib and Opencv Library. 2018 IEEE Second International Conference on\n",
    "Data Stream Mining & Processing (DSMP), (AUG), 478–482.\n",
    "\n",
    "Dlib: Dlib C++ Library Documentation - Image Processing [Electronic resource] - Access mode:\n",
    "http://dlib.net/dnn_face_recognition_ex.cpp.html.\n",
    "\n",
    "Face-Recognition: face-recognition pypi project description [Electronic resource] - Access mode:\n",
    "https://pypi.org/project/face-recognition/.\n",
    "\n",
    "Google Sheets API: Google Sheets for Developers - Sheets API Documentation [Electronic resource] -\n",
    "Access mode: https://developers.google.com/sheets/api/reference/rest.\n",
    "\n",
    "NumPy: NumPy Documentation [Electronic resource] - Access mode: https://numpy.org/doc/stable/.\n",
    "OpenCV: OpenCV-Python Tutorials [Electronic resource] – Access mode:\n",
    "https://docs.opencv.org/4.x/d6/d00/tutorial_py_root.html.\n",
    "\n",
    "Pandas: Pandas Documentation [Electronic resource] - Access mode: https://pandas.pydata.org/docs/\n",
    "Philip Chen, C. L., & Zhang, C. Y. (2014). Data-intensive applications, challenges, techniques and\n",
    "technologies: A survey on Big Data. Information Sciences, 275, 314–347.\n",
    "https://doi.org/10.1016/j.ins.2014.01.015"
   ]
  },
  {
   "cell_type": "markdown",
   "id": "2264d849",
   "metadata": {},
   "source": [
    "<div style='text-align: justify;'>\n",
    "    </div>"
   ]
  }
 ],
 "metadata": {
  "kernelspec": {
   "display_name": "Python 3 (ipykernel)",
   "language": "python",
   "name": "python3"
  },
  "language_info": {
   "codemirror_mode": {
    "name": "ipython",
    "version": 3
   },
   "file_extension": ".py",
   "mimetype": "text/x-python",
   "name": "python",
   "nbconvert_exporter": "python",
   "pygments_lexer": "ipython3",
   "version": "3.9.12"
  }
 },
 "nbformat": 4,
 "nbformat_minor": 5
}
